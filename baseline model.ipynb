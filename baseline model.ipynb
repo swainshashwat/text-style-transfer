{
 "cells": [
  {
   "cell_type": "code",
   "execution_count": 6,
   "id": "1778cc56",
   "metadata": {
    "scrolled": false
   },
   "outputs": [],
   "source": [
    "#!pip3 install torch torchvision torchaudio --index-url https://download.pytorch.org/whl/cu118"
   ]
  },
  {
   "cell_type": "code",
   "execution_count": 17,
   "id": "bcec4e72",
   "metadata": {},
   "outputs": [],
   "source": [
    "import randomhttps://meet.google.com/ian-zyns-uta\n",
    "import time\n",
    "\n",
    "# chatbot interface\n",
    "import gradio as gr\n",
    "\n",
    "# Load model directly\n",
    "from transformers import AutoTokenizer, AutoModelForSeq2SeqLM\n",
    "\n",
    "# Use a pipeline as a high-level helper\n",
    "from transformers import pipeline"
   ]
  },
  {
   "cell_type": "code",
   "execution_count": 52,
   "id": "eb6050d8",
   "metadata": {},
   "outputs": [],
   "source": [
    "# Use a pipeline as a high-level helper\n",
    "from transformers import pipeline\n",
    "\n",
    "pipe = pipeline(\"text2text-generation\", model=\"prithivida/informal_to_formal_styletransfer\")"
   ]
  },
  {
   "cell_type": "code",
   "execution_count": 19,
   "id": "a7622e3d",
   "metadata": {},
   "outputs": [],
   "source": [
    "tokenizer = AutoTokenizer.from_pretrained(\"prithivida/informal_to_formal_styletransfer\")\n",
    "model = AutoModelForSeq2SeqLM.from_pretrained(\"prithivida/informal_to_formal_styletransfer\")"
   ]
  },
  {
   "cell_type": "code",
   "execution_count": 20,
   "id": "9c4572cf",
   "metadata": {},
   "outputs": [],
   "source": [
    "user_input = 'What the hell? That seems crazy!'"
   ]
  },
  {
   "cell_type": "code",
   "execution_count": 49,
   "id": "9925a781",
   "metadata": {},
   "outputs": [],
   "source": [
    "user_tokens = tokenizer([user_input],return_tensors='pt')"
   ]
  },
  {
   "cell_type": "code",
   "execution_count": 50,
   "id": "6d50cdaa",
   "metadata": {},
   "outputs": [
    {
     "name": "stderr",
     "output_type": "stream",
     "text": [
      "/home/shashwat/miniconda3/envs/free/lib/python3.11/site-packages/transformers/generation/utils.py:1273: UserWarning: Using the model-agnostic default `max_length` (=20) to control the generation length. We recommend setting `max_new_tokens` to control the maximum length of the generation.\n",
      "  warnings.warn(\n"
     ]
    }
   ],
   "source": [
    "pred_tokens = model.generate(**user_tokens,)"
   ]
  },
  {
   "cell_type": "code",
   "execution_count": 48,
   "id": "d970d029",
   "metadata": {},
   "outputs": [
    {
     "data": {
      "text/plain": [
       "'That seems crazy.'"
      ]
     },
     "execution_count": 48,
     "metadata": {},
     "output_type": "execute_result"
    }
   ],
   "source": [
    "clean_text = tokenizer.batch_decode(pred_tokens, skip_special_tokens=True)[0]\n",
    "clean_text"
   ]
  },
  {
   "cell_type": "markdown",
   "id": "78ce1390",
   "metadata": {},
   "source": [
    "### Polite Bot"
   ]
  },
  {
   "cell_type": "code",
   "execution_count": 54,
   "id": "9211c593",
   "metadata": {},
   "outputs": [
    {
     "name": "stdout",
     "output_type": "stream",
     "text": [
      "Running on local URL:  http://127.0.0.1:7872\n",
      "\n",
      "To create a public link, set `share=True` in `launch()`.\n"
     ]
    },
    {
     "data": {
      "text/html": [
       "<div><iframe src=\"http://127.0.0.1:7872/\" width=\"100%\" height=\"500\" allow=\"autoplay; camera; microphone; clipboard-read; clipboard-write;\" frameborder=\"0\" allowfullscreen></iframe></div>"
      ],
      "text/plain": [
       "<IPython.core.display.HTML object>"
      ]
     },
     "metadata": {},
     "output_type": "display_data"
    },
    {
     "data": {
      "text/plain": []
     },
     "execution_count": 54,
     "metadata": {},
     "output_type": "execute_result"
    },
    {
     "name": "stderr",
     "output_type": "stream",
     "text": [
      "/home/shashwat/miniconda3/envs/free/lib/python3.11/site-packages/transformers/generation/utils.py:1273: UserWarning: Using the model-agnostic default `max_length` (=20) to control the generation length. We recommend setting `max_new_tokens` to control the maximum length of the generation.\n",
      "  warnings.warn(\n"
     ]
    },
    {
     "name": "stdout",
     "output_type": "stream",
     "text": [
      "BOT : What a fucking fuck\n",
      "BOT : Great\n",
      "BOT : Damn, that is a terrible word.\n",
      "BOT : You are a fuck.\n"
     ]
    }
   ],
   "source": [
    "import gradio as gr\n",
    "import random\n",
    "import time\n",
    "\n",
    "with gr.Blocks() as demo:\n",
    "    chatbot = gr.Chatbot()\n",
    "    msg = gr.Textbox()\n",
    "    clear = gr.Button(\"Clear\")\n",
    "\n",
    "    def user(user_message, history):\n",
    "        return \"\", history + [[user_message, None]]\n",
    "        print(\"USER :\", user_message)\n",
    "\n",
    "    def bot(history):\n",
    "        bot_message = pipe.predict(history[-1][0])[0]['generated_text']\n",
    "        print(\"BOT :\", bot_message)\n",
    "        history[-1][1] = \"\"\n",
    "        for character in bot_message:\n",
    "            history[-1][1] += character\n",
    "            time.sleep(0.05) # to add typing effect\n",
    "            yield history\n",
    "\n",
    "    msg.submit(user, [msg, chatbot], [msg, chatbot], queue=False).then(\n",
    "        bot, chatbot, chatbot\n",
    "    )\n",
    "    clear.click(lambda: None, None, chatbot, queue=False)\n",
    "    \n",
    "demo.queue()\n",
    "demo.launch()\n"
   ]
  },
  {
   "cell_type": "code",
   "execution_count": null,
   "id": "3c1097e3",
   "metadata": {},
   "outputs": [],
   "source": []
  }
 ],
 "metadata": {
  "kernelspec": {
   "display_name": "free",
   "language": "python",
   "name": "free"
  },
  "language_info": {
   "codemirror_mode": {
    "name": "ipython",
    "version": 3
   },
   "file_extension": ".py",
   "mimetype": "text/x-python",
   "name": "python",
   "nbconvert_exporter": "python",
   "pygments_lexer": "ipython3",
   "version": "3.11.5"
  }
 },
 "nbformat": 4,
 "nbformat_minor": 5
}
